{
 "cells": [
  {
   "cell_type": "markdown",
   "id": "e924f653",
   "metadata": {},
   "source": [
    "# Modularized with utils.dm\n",
    "This notebook now relies on `utils/dm.py` for synthetic transactions generation and Apriori mining (mlxtend or fallback), preserving artifacts."
   ]
  },
  {
   "cell_type": "markdown",
   "id": "3b7f3312",
   "metadata": {},
   "source": [
    "# Section 2: Data Mining\n",
    "## Task 3 Part B: Association Rule Mining (10 Marks)\n",
    "This stand-alone notebook generates synthetic transactional data, runs Apriori (mlxtend if available, else a minimal fallback), extracts rules with specified thresholds, and provides analytical commentary."
   ]
  },
  {
   "cell_type": "code",
   "execution_count": 1,
   "id": "81428cb2",
   "metadata": {},
   "outputs": [
    {
     "name": "stdout",
     "output_type": "stream",
     "text": [
      "Configuration initialized.\n"
     ]
    }
   ],
   "source": [
    "# 1. Imports & Configuration\n",
    "import numpy as np\n",
    "import pandas as pd\n",
    "from pathlib import Path\n",
    "import random, json\n",
    "\n",
    "RANDOM_SEED = 42\n",
    "np.random.seed(RANDOM_SEED)\n",
    "random.seed(RANDOM_SEED)\n",
    "ARTIFACT_DIR = Path('artifacts')\n",
    "ARTIFACT_DIR.mkdir(exist_ok=True)\n",
    "print('Configuration initialized.')"
   ]
  },
  {
   "cell_type": "code",
   "execution_count": null,
   "id": "c6ac72ec",
   "metadata": {},
   "outputs": [],
   "source": [
    "# Imports & setup via utils.dm\n",
    "import sys\n",
    "from pathlib import Path\n",
    "ROOT = Path.cwd()\n",
    "for parent in [ROOT] + list(ROOT.parents):\n",
    "    if (parent / 'utils' / 'dm.py').exists():\n",
    "        sys.path.insert(0, str(parent))\n",
    "        break\n",
    "from utils import dm\n",
    "import numpy as np, random\n",
    "np.random.seed(42); random.seed(42)\n",
    "ARTIFACT_DIR = Path('artifacts'); ARTIFACT_DIR.mkdir(exist_ok=True)\n",
    "MIN_SUPPORT = 0.2\n",
    "MIN_CONF = 0.5\n",
    "print('Configuration initialized.')"
   ]
  },
  {
   "cell_type": "code",
   "execution_count": null,
   "id": "b0f4c964",
   "metadata": {},
   "outputs": [
    {
     "name": "stdout",
     "output_type": "stream",
     "text": [
      "First 5 transactions sample:\n",
      "['bananas', 'beer', 'diapers', 'pasta', 'tomatoes']\n",
      "['bananas', 'butter', 'cereal', 'chicken', 'coffee', 'onions', 'pasta', 'tea', 'yogurt']\n",
      "['bread', 'cereal', 'chips']\n",
      "['bananas', 'bread', 'coffee', 'milk', 'soda', 'tea']\n",
      "['apples', 'beer', 'butter', 'chips', 'coffee', 'diapers', 'onions', 'rice', 'soda', 'tea']\n",
      "Total transactions: 45\n"
     ]
    }
   ],
   "source": [
    "# 2. Synthetic Transaction Generation (via utils.dm)\n",
    "transactions = dm.generate_synthetic_transactions(n_transactions=45, rng_seed=42)\n",
    "print('First 5 transactions sample:')\n",
    "for t in transactions[:5]:\n",
    "    print(t)\n",
    "print('Total transactions:', len(transactions))"
   ]
  },
  {
   "cell_type": "code",
   "execution_count": null,
   "id": "10fe9bc9",
   "metadata": {},
   "outputs": [
    {
     "name": "stdout",
     "output_type": "stream",
     "text": [
      "Using mlxtend Apriori implementation.\n",
      "Total candidate rules: 66\n"
     ]
    },
    {
     "data": {
      "text/html": [
       "<div>\n",
       "<style scoped>\n",
       "    .dataframe tbody tr th:only-of-type {\n",
       "        vertical-align: middle;\n",
       "    }\n",
       "\n",
       "    .dataframe tbody tr th {\n",
       "        vertical-align: top;\n",
       "    }\n",
       "\n",
       "    .dataframe thead th {\n",
       "        text-align: right;\n",
       "    }\n",
       "</style>\n",
       "<table border=\"1\" class=\"dataframe\">\n",
       "  <thead>\n",
       "    <tr style=\"text-align: right;\">\n",
       "      <th></th>\n",
       "      <th>antecedents</th>\n",
       "      <th>consequents</th>\n",
       "      <th>support</th>\n",
       "      <th>confidence</th>\n",
       "      <th>lift</th>\n",
       "      <th>leverage</th>\n",
       "      <th>conviction</th>\n",
       "    </tr>\n",
       "  </thead>\n",
       "  <tbody>\n",
       "    <tr>\n",
       "      <th>0</th>\n",
       "      <td>(beer, soda)</td>\n",
       "      <td>(diapers)</td>\n",
       "      <td>0.200000</td>\n",
       "      <td>0.900000</td>\n",
       "      <td>2.531250</td>\n",
       "      <td>0.120988</td>\n",
       "      <td>6.444444</td>\n",
       "    </tr>\n",
       "    <tr>\n",
       "      <th>1</th>\n",
       "      <td>(diapers)</td>\n",
       "      <td>(beer, soda)</td>\n",
       "      <td>0.200000</td>\n",
       "      <td>0.562500</td>\n",
       "      <td>2.531250</td>\n",
       "      <td>0.120988</td>\n",
       "      <td>1.777778</td>\n",
       "    </tr>\n",
       "    <tr>\n",
       "      <th>2</th>\n",
       "      <td>(beer)</td>\n",
       "      <td>(diapers, coffee)</td>\n",
       "      <td>0.222222</td>\n",
       "      <td>0.588235</td>\n",
       "      <td>2.406417</td>\n",
       "      <td>0.129877</td>\n",
       "      <td>1.834921</td>\n",
       "    </tr>\n",
       "    <tr>\n",
       "      <th>3</th>\n",
       "      <td>(diapers, coffee)</td>\n",
       "      <td>(beer)</td>\n",
       "      <td>0.222222</td>\n",
       "      <td>0.909091</td>\n",
       "      <td>2.406417</td>\n",
       "      <td>0.129877</td>\n",
       "      <td>6.844444</td>\n",
       "    </tr>\n",
       "    <tr>\n",
       "      <th>4</th>\n",
       "      <td>(diapers, tea)</td>\n",
       "      <td>(beer)</td>\n",
       "      <td>0.200000</td>\n",
       "      <td>0.900000</td>\n",
       "      <td>2.382353</td>\n",
       "      <td>0.116049</td>\n",
       "      <td>6.222222</td>\n",
       "    </tr>\n",
       "  </tbody>\n",
       "</table>\n",
       "</div>"
      ],
      "text/plain": [
       "         antecedents        consequents   support  confidence      lift  \\\n",
       "0       (beer, soda)          (diapers)  0.200000    0.900000  2.531250   \n",
       "1          (diapers)       (beer, soda)  0.200000    0.562500  2.531250   \n",
       "2             (beer)  (diapers, coffee)  0.222222    0.588235  2.406417   \n",
       "3  (diapers, coffee)             (beer)  0.222222    0.909091  2.406417   \n",
       "4     (diapers, tea)             (beer)  0.200000    0.900000  2.382353   \n",
       "\n",
       "   leverage  conviction  \n",
       "0  0.120988    6.444444  \n",
       "1  0.120988    1.777778  \n",
       "2  0.129877    1.834921  \n",
       "3  0.129877    6.844444  \n",
       "4  0.116049    6.222222  "
      ]
     },
     "metadata": {},
     "output_type": "display_data"
    },
    {
     "name": "stdout",
     "output_type": "stream",
     "text": [
      "Saved top 5 rules to artifacts/top5_rules_partB.csv\n"
     ]
    }
   ],
   "source": [
    "# 3. Apriori Mining (via utils.dm)\n",
    "rules = dm.apriori_rules(transactions, min_support=MIN_SUPPORT, min_confidence=MIN_CONF)\n",
    "import pandas as pd, numpy as np\n",
    "if rules is None or (hasattr(rules, 'empty') and rules.empty):\n",
    "    print('No rules found at given thresholds. Consider lowering support/confidence.')\n",
    "    rules_sorted = pd.DataFrame(columns=['antecedents','consequents','support','confidence','lift'])\n",
    "else:\n",
    "    # Sort and persist top 5 by lift; string-ify sets for CSV\n",
    "    rules_sorted = rules.sort_values('lift', ascending=False).head(5).reset_index(drop=True)\n",
    "    def set_to_str(x):\n",
    "        if isinstance(x, (set, frozenset)):\n",
    "            return ','.join(sorted(list(x)))\n",
    "        return x\n",
    "    out_df = rules_sorted.copy()\n",
    "    if 'antecedents' in out_df.columns:\n",
    "        out_df['antecedents'] = out_df['antecedents'].apply(set_to_str)\n",
    "    if 'consequents' in out_df.columns:\n",
    "        out_df['consequents'] = out_df['consequents'].apply(set_to_str)\n",
    "    out_df.to_csv(Path('artifacts') / 'top5_rules_partB.csv', index=False)\n",
    "    print('Saved top 5 rules to artifacts/top5_rules_partB.csv')\n",
    "\n",
    "display(rules_sorted)"
   ]
  },
  {
   "cell_type": "markdown",
   "id": "d7193439",
   "metadata": {},
   "source": [
    "# 4. Analysis\n",
    "A representative high-lift rule such as {bread} → {milk} implies that the presence of bread meaningfully increases the probability that milk appears in the same basket relative to baseline frequency. Practically, retailers can exploit this by: (1) cross-promoting milk near bread aisles, (2) bundling discounts to increase average basket value, and (3) ensuring synchronized replenishment to avoid stockouts that would reduce rule utility. Lift’s normalization over marginal supports helps filter out spurious popularity-driven associations. Still, rules must be validated over time: seasonality, promotions, and changing customer habits can erode rule strength. A/B testing recommendations based on the rule (e.g., suggesting milk at online checkout after bread is added) quantifies uplift in conversion. Additionally, combining rules with customer segmentation may personalize which associations to prioritize for distinct shopper cohorts."
   ]
  },
  {
   "cell_type": "code",
   "execution_count": null,
   "id": "4398bd36",
   "metadata": {},
   "outputs": [
    {
     "name": "stdout",
     "output_type": "stream",
     "text": [
      "Saved metadata to artifacts/task3b_metadata.json\n"
     ]
    },
    {
     "data": {
      "text/html": [
       "<div>\n",
       "<style scoped>\n",
       "    .dataframe tbody tr th:only-of-type {\n",
       "        vertical-align: middle;\n",
       "    }\n",
       "\n",
       "    .dataframe tbody tr th {\n",
       "        vertical-align: top;\n",
       "    }\n",
       "\n",
       "    .dataframe thead th {\n",
       "        text-align: right;\n",
       "    }\n",
       "</style>\n",
       "<table border=\"1\" class=\"dataframe\">\n",
       "  <thead>\n",
       "    <tr style=\"text-align: right;\">\n",
       "      <th></th>\n",
       "      <th>n_transactions</th>\n",
       "      <th>min_support</th>\n",
       "      <th>min_confidence</th>\n",
       "      <th>rules_found</th>\n",
       "      <th>top5_rules_count</th>\n",
       "    </tr>\n",
       "  </thead>\n",
       "  <tbody>\n",
       "    <tr>\n",
       "      <th>0</th>\n",
       "      <td>45</td>\n",
       "      <td>0.2</td>\n",
       "      <td>0.5</td>\n",
       "      <td>66</td>\n",
       "      <td>5</td>\n",
       "    </tr>\n",
       "  </tbody>\n",
       "</table>\n",
       "</div>"
      ],
      "text/plain": [
       "   n_transactions  min_support  min_confidence  rules_found  top5_rules_count\n",
       "0              45          0.2             0.5           66                 5"
      ]
     },
     "metadata": {},
     "output_type": "display_data"
    }
   ],
   "source": [
    "# 5. Metadata & Persistence\n",
    "metadata = {\n",
    "    'n_transactions': len(transactions),\n",
    "    'min_support': MIN_SUPPORT,\n",
    "    'min_confidence': MIN_CONF,\n",
    "    'rules_found': int(0 if rules is None else (0 if (hasattr(rules, 'empty') and rules.empty) else len(rules))),\n",
    "    'top5_rules_count': int(len(rules_sorted))\n",
    "}\n",
    "dm.save_json(metadata, Path('artifacts') / 'task3b_metadata.json')\n",
    "print('Saved metadata to artifacts/task3b_metadata.json')\n",
    "import pandas as pd\n",
    "display(pd.DataFrame([metadata]))"
   ]
  },
  {
   "cell_type": "markdown",
   "id": "92e6b615",
   "metadata": {},
   "source": [
    "### Part B Complete\n",
    "Generated transactions, mined rules with Apriori (or fallback), exported top 5 by lift, and provided actionable analysis."
   ]
  }
 ],
 "metadata": {
  "kernelspec": {
   "display_name": "Python 3",
   "language": "python",
   "name": "python3"
  },
  "language_info": {
   "codemirror_mode": {
    "name": "ipython",
    "version": 3
   },
   "file_extension": ".py",
   "mimetype": "text/x-python",
   "name": "python",
   "nbconvert_exporter": "python",
   "pygments_lexer": "ipython3",
   "version": "3.10.11"
  }
 },
 "nbformat": 4,
 "nbformat_minor": 5
}
