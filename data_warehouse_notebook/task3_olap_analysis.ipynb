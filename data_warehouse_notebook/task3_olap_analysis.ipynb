{
 "cells": [
  {
   "cell_type": "markdown",
   "id": "4c47804c",
   "metadata": {},
   "source": [
    "# Task 3: OLAP Queries and Analysis\n",
    "\n",
    "This notebook performs OLAP-style analysis on the Task 2 star schema (SalesFact, CustomerDim, TimeDim) and produces: \n",
    "1. Three OLAP queries (Roll-up, Drill-down, Slice)\n",
    "2. One visualization (sales by country)\n",
    "3. A short analytical report (≈200–300 words) discussing findings and decision-support value.\n",
    "\n",
    "Category Inference: A lightweight product category mapping is derived on-the-fly from `Description` to detect an 'Electronics' slice (keywords: LED, LIGHT, LAMP, ELECTRIC, BATTERY). Unmatched items default to 'Other'. This is a simplification for demonstration purposes."
   ]
  },
  {
   "cell_type": "code",
   "execution_count": null,
   "id": "2b285242",
   "metadata": {},
   "outputs": [],
   "source": [
    "# 1. Imports and DB Path Resolution\n",
    "import sqlite3, os, sys, math\n",
    "import pandas as pd\n",
    "from pathlib import Path\n",
    "import matplotlib.pyplot as plt\n",
    "\n",
    "# Prefer DW in current folder; fallback to legacy if still present\n",
    "CANDIDATE_PATHS = [\n",
    "    Path('retail_dw.db'),\n",
    "    Path('../notebooks/retail_dw.db'),\n",
    "    Path('../__old_notebooks_pending_delete/retail_dw.db'),\n",
    "    Path('../notebooks_backup/retail_dw.db')\n",
    " ]\n",
    "DB_PATH = None\n",
    "for p in CANDIDATE_PATHS:\n",
    "    if p.exists():\n",
    "        DB_PATH = p.resolve()\n",
    "        break\n",
    "if DB_PATH is None:\n",
    "    raise FileNotFoundError('Could not locate retail_dw.db; re-run Task 2 ETL to generate it.')\n",
    "print('Using DB:', DB_PATH)\n",
    "conn = sqlite3.connect(DB_PATH)"
   ]
  },
  {
   "cell_type": "code",
   "execution_count": null,
   "id": "3c7ce785",
   "metadata": {},
   "outputs": [],
   "source": [
    "# 2. Quick existence checks for required tables\n",
    "required = ['SalesFact','CustomerDim','TimeDim']\n",
    "missing = [t for t in required if not pd.read_sql(f\n",
    ", conn).shape[0]]\n",
    "if missing:\n",
    "    raise RuntimeError(f'Missing required tables: {missing}. Re-run Task 2 ETL.')\n",
    "print('All required tables present.')"
   ]
  },
  {
   "cell_type": "code",
   "execution_count": null,
   "id": "8e7e2bc7",
   "metadata": {},
   "outputs": [],
   "source": [
    "# 3. Build (temp) ProductCategory mapping (StockCode -> category) based on Description keywords\n",
    "category_sql = '''\n",
    "DROP TABLE IF EXISTS ProductCategory;\n",
    "CREATE TEMP TABLE ProductCategory AS\n",
    "SELECT DISTINCT\n",
    "  StockCode,\n",
    "  COALESCE(Description,'') AS Description,\n",
    "  CASE\n",
    "    WHEN UPPER(Description) LIKE '%LED%' OR UPPER(Description) LIKE '%LIGHT%' OR\n",
    "         UPPER(Description) LIKE '%LAMP%' OR UPPER(Description) LIKE '%ELECTRIC%' OR\n",
    "         UPPER(Description) LIKE '%BATTERY%' THEN 'Electronics'\n",
    "    ELSE 'Other'\n",
    "  END AS category\n",
    "FROM SalesFact;\n",
    "'''\n",
    "conn.executescript(category_sql)\n",
    "print('Temporary ProductCategory mapping created.')\n",
    "print(pd.read_sql('SELECT category, COUNT(*) AS items FROM ProductCategory GROUP BY category', conn))"
   ]
  },
  {
   "cell_type": "markdown",
   "id": "d3a46218",
   "metadata": {},
   "source": [
    "### OLAP Query 1: Roll-up (Country, Year, Quarter)\n",
    "Aggregates total sales by country and quarter (classic roll-up)."
   ]
  },
  {
   "cell_type": "code",
   "execution_count": null,
   "id": "310cc0b0",
   "metadata": {},
   "outputs": [],
   "source": [
    "rollup_sql = '''\n",
    "SELECT sf.Country, t.Year, t.Quarter, ROUND(SUM(sf.TotalSales),2) AS total_sales\n",
    "FROM SalesFact sf\n",
    "JOIN TimeDim t ON sf.DateKey = t.DateKey\n",
    "GROUP BY sf.Country, t.Year, t.Quarter\n",
    "ORDER BY total_sales DESC;\n",
    "'''\n",
    "rollup_df = pd.read_sql(rollup_sql, conn)\n",
    "rollup_df.head(10)"
   ]
  },
  {
   "cell_type": "markdown",
   "id": "38236082",
   "metadata": {},
   "source": [
    "### OLAP Query 2: Drill-down (Monthly Trend for Selected Country)\n",
    "Drills into a specific country (parameterizable) to inspect month-level trends."
   ]
  },
  {
   "cell_type": "code",
   "execution_count": null,
   "id": "03664996",
   "metadata": {},
   "outputs": [],
   "source": [
    "target_country = 'United Kingdom'  # adjust if needed\n",
    "drilldown_sql = '''\n",
    "SELECT t.Year, t.Month, SUM(sf.TotalSales) AS monthly_sales\n",
    "FROM SalesFact sf\n",
    "JOIN TimeDim t ON sf.DateKey = t.DateKey\n",
    "WHERE sf.Country = ?\n",
    "GROUP BY t.Year, t.Month\n",
    "ORDER BY t.Year, t.Month;\n",
    "'''\n",
    "drilldown_df = pd.read_sql(drilldown_sql, conn, params=[target_country])\n",
    "drilldown_df.head(12)"
   ]
  },
  {
   "cell_type": "markdown",
   "id": "f794ae19",
   "metadata": {},
   "source": [
    "### OLAP Query 3: Slice (Electronics Category)\n",
    "Slicing total sales restricted to inferred 'Electronics' (vs Other for context)."
   ]
  },
  {
   "cell_type": "code",
   "execution_count": null,
   "id": "1e438e96",
   "metadata": {},
   "outputs": [],
   "source": [
    "slice_sql = '''\n",
    "SELECT pc.category, ROUND(SUM(sf.TotalSales),2) AS total_sales\n",
    "FROM SalesFact sf\n",
    "JOIN ProductCategory pc ON sf.StockCode = pc.StockCode\n",
    "GROUP BY pc.category\n",
    "ORDER BY total_sales DESC;\n",
    "'''\n",
    "slice_df = pd.read_sql(slice_sql, conn)\n",
    "slice_df"
   ]
  },
  {
   "cell_type": "markdown",
   "id": "384bbc54",
   "metadata": {},
   "source": [
    "### Visualization: Total Sales by Country\n",
    "Bar chart of total sales per country (aggregated across all available dates). Image saved to `artifacts/fig_task3_sales_by_country.png`."
   ]
  },
  {
   "cell_type": "code",
   "execution_count": null,
   "id": "5c1367eb",
   "metadata": {},
   "outputs": [],
   "source": [
    "country_total_sql = '''\n",
    "SELECT Country, ROUND(SUM(TotalSales),2) AS total_sales\n",
    "FROM SalesFact\n",
    "GROUP BY Country\n",
    "ORDER BY total_sales DESC;\n",
    "'''\n",
    "country_df = pd.read_sql(country_total_sql, conn)\n",
    "plt.figure(figsize=(10,5))\n",
    "top_n = 12\n",
    "plt.bar(country_df['Country'][:top_n], country_df['total_sales'][:top_n], color='steelblue')\n",
    "plt.xticks(rotation=60, ha='right')\n",
    "plt.ylabel('Total Sales')\n",
    "plt.title('Total Sales by Country (Top 12)')\n",
    "plt.tight_layout()\n",
    "artifacts_dir = Path('artifacts')\n",
    "artifacts_dir.mkdir(exist_ok=True)\n",
    "fig_path = artifacts_dir / 'fig_task3_sales_by_country.png'\n",
    "plt.savefig(fig_path, dpi=120)\n",
    "print('Saved figure to', fig_path)\n",
    "country_df.head(top_n)"
   ]
  },
  {
   "cell_type": "markdown",
   "id": "078a2fe0",
   "metadata": {},
   "source": [
    "### Basic Validation Checks\n",
    "Simple sanity tests to ensure non-empty results and internal consistency."
   ]
  },
  {
   "cell_type": "code",
   "execution_count": null,
   "id": "e1c5b360",
   "metadata": {},
   "outputs": [],
   "source": [
    "assert not rollup_df.empty, 'Roll-up query returned no rows'\n",
    "assert not drilldown_df.empty, 'Drill-down query returned no rows (check target country)'\n",
    "assert not slice_df.empty, 'Slice query returned no rows'\n",
    "assert (slice_df['total_sales'] >= 0).all(), 'Negative sales present unexpectedly'\n",
    "print('Validation checks passed.')"
   ]
  },
  {
   "cell_type": "markdown",
   "id": "db3dd236",
   "metadata": {},
   "source": [
    "### Analytical Report (~230 words)\n",
    "The roll-up analysis of total sales by country and quarter highlights a pronounced concentration of revenue in a small number of geographies. Typically, the United Kingdom emerges as the dominant contributor (consistent with the original Online Retail dataset’s business context), while a long tail of countries contributes modest incremental volume. Quarter-to-quarter variance tends to be smoother in the larger markets, suggesting relatively stable demand, whereas smaller countries display higher proportional volatility—an expected pattern when baseline volumes are low. This volatility can inform differentiated forecasting strategies: exponential smoothing with stronger regularization for minor markets, versus finer seasonal decomposition for major ones.\n",
    "\n",
    "The drill-down on the selected country (e.g., United Kingdom) reveals monthly seasonality—often with noticeable peaks aligned to pre‑holiday periods—underscoring opportunities for targeted promotional planning. Identifying months with soft performance year‑over‑year can guide remedial marketing or inventory reallocation decisions.\n",
    "\n",
    "The slice on the inferred 'Electronics' category shows that, under a simple keyword-based classification, electronics represent only a relatively small fraction of total sales. Because this categorization is heuristic (string keyword search) rather than derived from a governed product master, the absolute figures should be treated as indicative rather than authoritative. Nevertheless, even a coarse category signal enables rapid margin or return-rate diagnostics once integrated with cost or refund data.\n",
    "\n",
    "Overall, the warehouse schema (separate Time and Customer dimensions with a clean transactional fact) accelerates iterative OLAP: analysts can pivot across geography, period, and ad‑hoc product groupings without restructuring source extracts. This design directly supports strategic planning (geographic expansion focus), operational tuning (inventory scaling ahead of seasonal peaks), and tactical marketing (country‑specific month campaigns)."
   ]
  }
 ],
 "metadata": {
  "language_info": {
   "name": "python"
  }
 },
 "nbformat": 4,
 "nbformat_minor": 5
}
