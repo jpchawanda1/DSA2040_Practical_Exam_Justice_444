{
 "cells": [
  {
   "cell_type": "markdown",
   "id": "4c47804c",
   "metadata": {},
   "source": [
    "# Task 3: OLAP Queries and Analysis\n",
    "\n",
    "This notebook performs OLAP-style analysis on the Task 2 star schema (SalesFact, CustomerDim, TimeDim) and produces: \n",
    "1. Three OLAP queries (Roll-up, Drill-down, Slice)\n",
    "2. One visualization (sales by country)\n",
    "3. A short analytical report (≈200–300 words) discussing findings and decision-support value.\n",
    "\n",
    "Category Inference: A lightweight product category mapping is derived on-the-fly from `Description` to detect an 'Electronics' slice (keywords: LED, LIGHT, LAMP, ELECTRIC, BATTERY). Unmatched items default to 'Other'. This is a simplification for demonstration purposes."
   ]
  },
  {
   "cell_type": "markdown",
   "id": "e83988ad",
   "metadata": {},
   "source": [
    "# Task 3: OLAP (Modular Version)\n",
    "\n",
    "\n",
    "This notebook calls OLAP helper functions from `utils/olap.py` to keep the notebook minimal."
   ]
  },
  {
   "cell_type": "code",
   "execution_count": 2,
   "id": "2b285242",
   "metadata": {},
   "outputs": [
    {
     "name": "stdout",
     "output_type": "stream",
     "text": [
      "DB connected at sqlite-connection\n"
     ]
    }
   ],
   "source": [
    "# 1. Imports and DB Path Resolution (modular)\n",
    "from pathlib import Path\n",
    "import sys\n",
    "\n",
    "# Notebook-safe project root detection (no __file__ in Jupyter)\n",
    "CWD = Path.cwd().resolve()\n",
    "markers = [\"utils\", \"raw_data\", \".git\", \"data_mining_notebook\", \"data_warehouse_notebook\"]\n",
    "\n",
    "def find_project_root(start: Path) -> Path:\n",
    "    p = start\n",
    "    for _ in range(10):\n",
    "        if any((p / m).exists() for m in markers):\n",
    "            return p\n",
    "        if p.parent == p:\n",
    "            break\n",
    "        p = p.parent\n",
    "    return start\n",
    "\n",
    "ROOT = find_project_root(CWD)\n",
    "sys.path.insert(0, str(ROOT))\n",
    "\n",
    "import pandas as pd\n",
    "from utils.olap import ensure_db, rollup_country_quarter, drilldown_country_month, slice_category_totals\n",
    "\n",
    "# Prefer DB inside data_warehouse_notebook if present; otherwise search a few sensible locations\n",
    "CANDIDATE_PATHS = [\n",
    "    ROOT / 'data_warehouse_notebook' / 'retail_dw.db',\n",
    "    ROOT / 'retail_dw.db',\n",
    "]\n",
    "conn = ensure_db(CANDIDATE_PATHS)\n",
    "print('DB connected at', getattr(conn, 'database', 'sqlite-connection'))"
   ]
  },
  {
   "cell_type": "code",
   "execution_count": 3,
   "id": "3c7ce785",
   "metadata": {},
   "outputs": [
    {
     "name": "stdout",
     "output_type": "stream",
     "text": [
      "All required tables present.\n"
     ]
    }
   ],
   "source": [
    "# 2. Quick existence checks for required tables\n",
    "required_dfs = []\n",
    "try:\n",
    "    required_dfs.append(pd.read_sql(\"SELECT 1 FROM SalesFact LIMIT 1\", conn))\n",
    "    required_dfs.append(pd.read_sql(\"SELECT 1 FROM CustomerDim LIMIT 1\", conn))\n",
    "    required_dfs.append(pd.read_sql(\"SELECT 1 FROM TimeDim LIMIT 1\", conn))\n",
    "except Exception as e:\n",
    "    raise RuntimeError('Missing required tables. Re-run Task 2 ETL.')\n",
    "print('All required tables present.')"
   ]
  },
  {
   "cell_type": "markdown",
   "id": "d3a46218",
   "metadata": {},
   "source": [
    "### OLAP Query 1: Roll-up (Country, Year, Quarter)\n",
    "Aggregates total sales by country and quarter (classic roll-up)."
   ]
  },
  {
   "cell_type": "code",
   "execution_count": 4,
   "id": "310cc0b0",
   "metadata": {},
   "outputs": [
    {
     "data": {
      "text/html": [
       "<div>\n",
       "<style scoped>\n",
       "    .dataframe tbody tr th:only-of-type {\n",
       "        vertical-align: middle;\n",
       "    }\n",
       "\n",
       "    .dataframe tbody tr th {\n",
       "        vertical-align: top;\n",
       "    }\n",
       "\n",
       "    .dataframe thead th {\n",
       "        text-align: right;\n",
       "    }\n",
       "</style>\n",
       "<table border=\"1\" class=\"dataframe\">\n",
       "  <thead>\n",
       "    <tr style=\"text-align: right;\">\n",
       "      <th></th>\n",
       "      <th>Country</th>\n",
       "      <th>Year</th>\n",
       "      <th>Quarter</th>\n",
       "      <th>total_sales</th>\n",
       "    </tr>\n",
       "  </thead>\n",
       "  <tbody>\n",
       "    <tr>\n",
       "      <th>0</th>\n",
       "      <td>United Kingdom</td>\n",
       "      <td>2011</td>\n",
       "      <td>4</td>\n",
       "      <td>2098233.36</td>\n",
       "    </tr>\n",
       "    <tr>\n",
       "      <th>1</th>\n",
       "      <td>United Kingdom</td>\n",
       "      <td>2011</td>\n",
       "      <td>3</td>\n",
       "      <td>1780845.84</td>\n",
       "    </tr>\n",
       "    <tr>\n",
       "      <th>2</th>\n",
       "      <td>United Kingdom</td>\n",
       "      <td>2011</td>\n",
       "      <td>2</td>\n",
       "      <td>1486043.44</td>\n",
       "    </tr>\n",
       "    <tr>\n",
       "      <th>3</th>\n",
       "      <td>United Kingdom</td>\n",
       "      <td>2011</td>\n",
       "      <td>1</td>\n",
       "      <td>1265044.28</td>\n",
       "    </tr>\n",
       "    <tr>\n",
       "      <th>4</th>\n",
       "      <td>United Kingdom</td>\n",
       "      <td>2010</td>\n",
       "      <td>4</td>\n",
       "      <td>248645.41</td>\n",
       "    </tr>\n",
       "    <tr>\n",
       "      <th>5</th>\n",
       "      <td>EIRE</td>\n",
       "      <td>2011</td>\n",
       "      <td>3</td>\n",
       "      <td>98868.02</td>\n",
       "    </tr>\n",
       "    <tr>\n",
       "      <th>6</th>\n",
       "      <td>Netherlands</td>\n",
       "      <td>2011</td>\n",
       "      <td>4</td>\n",
       "      <td>78310.68</td>\n",
       "    </tr>\n",
       "    <tr>\n",
       "      <th>7</th>\n",
       "      <td>Netherlands</td>\n",
       "      <td>2011</td>\n",
       "      <td>1</td>\n",
       "      <td>72039.56</td>\n",
       "    </tr>\n",
       "    <tr>\n",
       "      <th>8</th>\n",
       "      <td>France</td>\n",
       "      <td>2011</td>\n",
       "      <td>4</td>\n",
       "      <td>71850.01</td>\n",
       "    </tr>\n",
       "    <tr>\n",
       "      <th>9</th>\n",
       "      <td>Netherlands</td>\n",
       "      <td>2011</td>\n",
       "      <td>3</td>\n",
       "      <td>67291.09</td>\n",
       "    </tr>\n",
       "  </tbody>\n",
       "</table>\n",
       "</div>"
      ],
      "text/plain": [
       "          Country  Year  Quarter  total_sales\n",
       "0  United Kingdom  2011        4   2098233.36\n",
       "1  United Kingdom  2011        3   1780845.84\n",
       "2  United Kingdom  2011        2   1486043.44\n",
       "3  United Kingdom  2011        1   1265044.28\n",
       "4  United Kingdom  2010        4    248645.41\n",
       "5            EIRE  2011        3     98868.02\n",
       "6     Netherlands  2011        4     78310.68\n",
       "7     Netherlands  2011        1     72039.56\n",
       "8          France  2011        4     71850.01\n",
       "9     Netherlands  2011        3     67291.09"
      ]
     },
     "execution_count": 4,
     "metadata": {},
     "output_type": "execute_result"
    }
   ],
   "source": [
    "rollup_df = rollup_country_quarter(conn)\n",
    "rollup_df.head(10)"
   ]
  },
  {
   "cell_type": "markdown",
   "id": "38236082",
   "metadata": {},
   "source": [
    "### OLAP Query 2: Drill-down (Monthly Trend for Selected Country)\n",
    "Drills into a specific country (parameterizable) to inspect month-level trends."
   ]
  },
  {
   "cell_type": "code",
   "execution_count": 5,
   "id": "03664996",
   "metadata": {},
   "outputs": [
    {
     "data": {
      "text/html": [
       "<div>\n",
       "<style scoped>\n",
       "    .dataframe tbody tr th:only-of-type {\n",
       "        vertical-align: middle;\n",
       "    }\n",
       "\n",
       "    .dataframe tbody tr th {\n",
       "        vertical-align: top;\n",
       "    }\n",
       "\n",
       "    .dataframe thead th {\n",
       "        text-align: right;\n",
       "    }\n",
       "</style>\n",
       "<table border=\"1\" class=\"dataframe\">\n",
       "  <thead>\n",
       "    <tr style=\"text-align: right;\">\n",
       "      <th></th>\n",
       "      <th>Year</th>\n",
       "      <th>Month</th>\n",
       "      <th>monthly_sales</th>\n",
       "    </tr>\n",
       "  </thead>\n",
       "  <tbody>\n",
       "    <tr>\n",
       "      <th>0</th>\n",
       "      <td>2010</td>\n",
       "      <td>12</td>\n",
       "      <td>248645.410</td>\n",
       "    </tr>\n",
       "    <tr>\n",
       "      <th>1</th>\n",
       "      <td>2011</td>\n",
       "      <td>1</td>\n",
       "      <td>442190.060</td>\n",
       "    </tr>\n",
       "    <tr>\n",
       "      <th>2</th>\n",
       "      <td>2011</td>\n",
       "      <td>2</td>\n",
       "      <td>355655.630</td>\n",
       "    </tr>\n",
       "    <tr>\n",
       "      <th>3</th>\n",
       "      <td>2011</td>\n",
       "      <td>3</td>\n",
       "      <td>467198.590</td>\n",
       "    </tr>\n",
       "    <tr>\n",
       "      <th>4</th>\n",
       "      <td>2011</td>\n",
       "      <td>4</td>\n",
       "      <td>409559.141</td>\n",
       "    </tr>\n",
       "    <tr>\n",
       "      <th>5</th>\n",
       "      <td>2011</td>\n",
       "      <td>5</td>\n",
       "      <td>551568.820</td>\n",
       "    </tr>\n",
       "    <tr>\n",
       "      <th>6</th>\n",
       "      <td>2011</td>\n",
       "      <td>6</td>\n",
       "      <td>524915.480</td>\n",
       "    </tr>\n",
       "    <tr>\n",
       "      <th>7</th>\n",
       "      <td>2011</td>\n",
       "      <td>7</td>\n",
       "      <td>485612.251</td>\n",
       "    </tr>\n",
       "    <tr>\n",
       "      <th>8</th>\n",
       "      <td>2011</td>\n",
       "      <td>8</td>\n",
       "      <td>498453.320</td>\n",
       "    </tr>\n",
       "    <tr>\n",
       "      <th>9</th>\n",
       "      <td>2011</td>\n",
       "      <td>9</td>\n",
       "      <td>796780.272</td>\n",
       "    </tr>\n",
       "    <tr>\n",
       "      <th>10</th>\n",
       "      <td>2011</td>\n",
       "      <td>10</td>\n",
       "      <td>824766.220</td>\n",
       "    </tr>\n",
       "    <tr>\n",
       "      <th>11</th>\n",
       "      <td>2011</td>\n",
       "      <td>11</td>\n",
       "      <td>980645.750</td>\n",
       "    </tr>\n",
       "  </tbody>\n",
       "</table>\n",
       "</div>"
      ],
      "text/plain": [
       "    Year  Month  monthly_sales\n",
       "0   2010     12     248645.410\n",
       "1   2011      1     442190.060\n",
       "2   2011      2     355655.630\n",
       "3   2011      3     467198.590\n",
       "4   2011      4     409559.141\n",
       "5   2011      5     551568.820\n",
       "6   2011      6     524915.480\n",
       "7   2011      7     485612.251\n",
       "8   2011      8     498453.320\n",
       "9   2011      9     796780.272\n",
       "10  2011     10     824766.220\n",
       "11  2011     11     980645.750"
      ]
     },
     "execution_count": 5,
     "metadata": {},
     "output_type": "execute_result"
    }
   ],
   "source": [
    "target_country = 'United Kingdom'  # adjust if needed\n",
    "drilldown_df = drilldown_country_month(conn, target_country)\n",
    "drilldown_df.head(12)"
   ]
  },
  {
   "cell_type": "markdown",
   "id": "f794ae19",
   "metadata": {},
   "source": [
    "### OLAP Query 3: Slice (Electronics Category)\n",
    "Slicing total sales restricted to inferred 'Electronics' (vs Other for context)."
   ]
  },
  {
   "cell_type": "code",
   "execution_count": 6,
   "id": "1e438e96",
   "metadata": {},
   "outputs": [
    {
     "data": {
      "text/html": [
       "<div>\n",
       "<style scoped>\n",
       "    .dataframe tbody tr th:only-of-type {\n",
       "        vertical-align: middle;\n",
       "    }\n",
       "\n",
       "    .dataframe tbody tr th {\n",
       "        vertical-align: top;\n",
       "    }\n",
       "\n",
       "    .dataframe thead th {\n",
       "        text-align: right;\n",
       "    }\n",
       "</style>\n",
       "<table border=\"1\" class=\"dataframe\">\n",
       "  <thead>\n",
       "    <tr style=\"text-align: right;\">\n",
       "      <th></th>\n",
       "      <th>category</th>\n",
       "      <th>total_sales</th>\n",
       "    </tr>\n",
       "  </thead>\n",
       "  <tbody>\n",
       "    <tr>\n",
       "      <th>0</th>\n",
       "      <td>Other</td>\n",
       "      <td>7844061.85</td>\n",
       "    </tr>\n",
       "    <tr>\n",
       "      <th>1</th>\n",
       "      <td>Electronics</td>\n",
       "      <td>609350.67</td>\n",
       "    </tr>\n",
       "  </tbody>\n",
       "</table>\n",
       "</div>"
      ],
      "text/plain": [
       "      category  total_sales\n",
       "0        Other   7844061.85\n",
       "1  Electronics    609350.67"
      ]
     },
     "execution_count": 6,
     "metadata": {},
     "output_type": "execute_result"
    }
   ],
   "source": [
    "slice_df = slice_category_totals(conn)\n",
    "slice_df"
   ]
  },
  {
   "cell_type": "markdown",
   "id": "384bbc54",
   "metadata": {},
   "source": [
    "### Visualization: Total Sales by Country\n",
    "Bar chart of total sales per country (aggregated across all available dates). Image saved to `artifacts/fig_task3_sales_by_country.png`."
   ]
  },
  {
   "cell_type": "code",
   "execution_count": 7,
   "id": "5c1367eb",
   "metadata": {},
   "outputs": [
    {
     "name": "stdout",
     "output_type": "stream",
     "text": [
      "Saved figure to artifacts\\fig_task3_sales_by_country.png\n"
     ]
    },
    {
     "data": {
      "text/html": [
       "<div>\n",
       "<style scoped>\n",
       "    .dataframe tbody tr th:only-of-type {\n",
       "        vertical-align: middle;\n",
       "    }\n",
       "\n",
       "    .dataframe tbody tr th {\n",
       "        vertical-align: top;\n",
       "    }\n",
       "\n",
       "    .dataframe thead th {\n",
       "        text-align: right;\n",
       "    }\n",
       "</style>\n",
       "<table border=\"1\" class=\"dataframe\">\n",
       "  <thead>\n",
       "    <tr style=\"text-align: right;\">\n",
       "      <th></th>\n",
       "      <th>Country</th>\n",
       "      <th>total_sales</th>\n",
       "    </tr>\n",
       "  </thead>\n",
       "  <tbody>\n",
       "    <tr>\n",
       "      <th>0</th>\n",
       "      <td>United Kingdom</td>\n",
       "      <td>6878812.33</td>\n",
       "    </tr>\n",
       "    <tr>\n",
       "      <th>1</th>\n",
       "      <td>Netherlands</td>\n",
       "      <td>285253.74</td>\n",
       "    </tr>\n",
       "    <tr>\n",
       "      <th>2</th>\n",
       "      <td>EIRE</td>\n",
       "      <td>261757.67</td>\n",
       "    </tr>\n",
       "    <tr>\n",
       "      <th>3</th>\n",
       "      <td>Germany</td>\n",
       "      <td>222412.43</td>\n",
       "    </tr>\n",
       "    <tr>\n",
       "      <th>4</th>\n",
       "      <td>France</td>\n",
       "      <td>204343.91</td>\n",
       "    </tr>\n",
       "    <tr>\n",
       "      <th>5</th>\n",
       "      <td>Australia</td>\n",
       "      <td>137904.16</td>\n",
       "    </tr>\n",
       "    <tr>\n",
       "      <th>6</th>\n",
       "      <td>Spain</td>\n",
       "      <td>60957.11</td>\n",
       "    </tr>\n",
       "    <tr>\n",
       "      <th>7</th>\n",
       "      <td>Switzerland</td>\n",
       "      <td>56140.55</td>\n",
       "    </tr>\n",
       "    <tr>\n",
       "      <th>8</th>\n",
       "      <td>Belgium</td>\n",
       "      <td>40641.60</td>\n",
       "    </tr>\n",
       "    <tr>\n",
       "      <th>9</th>\n",
       "      <td>Sweden</td>\n",
       "      <td>38378.33</td>\n",
       "    </tr>\n",
       "    <tr>\n",
       "      <th>10</th>\n",
       "      <td>Japan</td>\n",
       "      <td>37096.29</td>\n",
       "    </tr>\n",
       "    <tr>\n",
       "      <th>11</th>\n",
       "      <td>Portugal</td>\n",
       "      <td>32029.40</td>\n",
       "    </tr>\n",
       "  </tbody>\n",
       "</table>\n",
       "</div>"
      ],
      "text/plain": [
       "           Country  total_sales\n",
       "0   United Kingdom   6878812.33\n",
       "1      Netherlands    285253.74\n",
       "2             EIRE    261757.67\n",
       "3          Germany    222412.43\n",
       "4           France    204343.91\n",
       "5        Australia    137904.16\n",
       "6            Spain     60957.11\n",
       "7      Switzerland     56140.55\n",
       "8          Belgium     40641.60\n",
       "9           Sweden     38378.33\n",
       "10           Japan     37096.29\n",
       "11        Portugal     32029.40"
      ]
     },
     "execution_count": 7,
     "metadata": {},
     "output_type": "execute_result"
    },
    {
     "data": {
      "image/png": "[encoded data removed]",
      "text/plain": [
       "<Figure size 1000x500 with 1 Axes>"
      ]
     },
     "metadata": {},
     "output_type": "display_data"
    }
   ],
   "source": [
    "import matplotlib.pyplot as plt\n",
    "\n",
    "country_total_sql = '''\n",
    "SELECT Country, ROUND(SUM(TotalSales),2) AS total_sales\n",
    "FROM SalesFact\n",
    "GROUP BY Country\n",
    "ORDER BY total_sales DESC;\n",
    "'''\n",
    "country_df = pd.read_sql(country_total_sql, conn)\n",
    "plt.figure(figsize=(10,5))\n",
    "top_n = 12\n",
    "plt.bar(country_df['Country'][:top_n], country_df['total_sales'][:top_n], color='steelblue')\n",
    "plt.xticks(rotation=60, ha='right')\n",
    "plt.ylabel('Total Sales')\n",
    "plt.title('Total Sales by Country (Top 12)')\n",
    "plt.tight_layout()\n",
    "artifacts_dir = Path('artifacts')\n",
    "artifacts_dir.mkdir(exist_ok=True)\n",
    "fig_path = artifacts_dir / 'fig_task3_sales_by_country.png'\n",
    "plt.savefig(fig_path, dpi=120)\n",
    "print('Saved figure to', fig_path)\n",
    "country_df.head(top_n)"
   ]
  },
  {
   "cell_type": "markdown",
   "id": "078a2fe0",
   "metadata": {},
   "source": [
    "### Basic Validation Checks\n",
    "Simple sanity tests to ensure non-empty results and internal consistency."
   ]
  },
  {
   "cell_type": "code",
   "execution_count": 8,
   "id": "e1c5b360",
   "metadata": {},
   "outputs": [
    {
     "name": "stdout",
     "output_type": "stream",
     "text": [
      "Validation checks passed.\n"
     ]
    }
   ],
   "source": [
    "assert not rollup_df.empty, 'Roll-up query returned no rows'\n",
    "assert not drilldown_df.empty, 'Drill-down query returned no rows (check target country)'\n",
    "assert not slice_df.empty, 'Slice query returned no rows'\n",
    "assert (slice_df['total_sales'] >= 0).all(), 'Negative sales present unexpectedly'\n",
    "print('Validation checks passed.')"
   ]
  },
  {
   "cell_type": "markdown",
   "id": "db3dd236",
   "metadata": {},
   "source": [
    "### Analytical Report (~230 words)\n",
    "The roll-up analysis of total sales by country and quarter highlights a pronounced concentration of revenue in a small number of geographies. Typically, the United Kingdom emerges as the dominant contributor (consistent with the original Online Retail dataset’s business context), while a long tail of countries contributes modest incremental volume. Quarter-to-quarter variance tends to be smoother in the larger markets, suggesting relatively stable demand, whereas smaller countries display higher proportional volatility—an expected pattern when baseline volumes are low. This volatility can inform differentiated forecasting strategies: exponential smoothing with stronger regularization for minor markets, versus finer seasonal decomposition for major ones.\n",
    "\n",
    "The drill-down on the selected country (e.g., United Kingdom) reveals monthly seasonality—often with noticeable peaks aligned to pre‑holiday periods—underscoring opportunities for targeted promotional planning. Identifying months with soft performance year‑over‑year can guide remedial marketing or inventory reallocation decisions.\n",
    "\n",
    "The category slice now leverages a proper ProductDim (with a simple keyword-derived Category) when available. Even this lightweight dimension immediately enables richer comparative analysis (e.g., category mix shifts, product lifecycle signals). Because categorization is heuristic, absolute figures should be treated as indicative rather than authoritative; integrating a governed product master would further strengthen insight quality.\n",
    "\n",
    "Overall, the enhanced warehouse schema (distinct Customer, Product, and Time dimensions with a clean transactional fact) accelerates iterative OLAP: analysts can pivot across geography, period, product, and ad‑hoc groupings without restructuring source extracts. This design directly supports strategic planning (geographic expansion focus), operational tuning (inventory scaling ahead of seasonal peaks), and tactical marketing (country‑ and category‑specific campaigns)."
   ]
  }
 ],
 "metadata": {
  "kernelspec": {
   "display_name": "Python 3",
   "language": "python",
   "name": "python3"
  },
  "language_info": {
   "codemirror_mode": {
    "name": "ipython",
    "version": 3
   },
   "file_extension": ".py",
   "mimetype": "text/x-python",
   "name": "python",
   "nbconvert_exporter": "python",
   "pygments_lexer": "ipython3",
   "version": "3.10.11"
  }
 },
 "nbformat": 4,
 "nbformat_minor": 5
}
